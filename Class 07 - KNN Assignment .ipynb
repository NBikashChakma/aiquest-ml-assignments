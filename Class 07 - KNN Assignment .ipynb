{
 "cells": [
  {
   "cell_type": "code",
   "execution_count": 1,
   "id": "88ce20d7",
   "metadata": {},
   "outputs": [],
   "source": [
    "#importing libraries dataset\n",
    "import pandas as pd\n",
    "import numpy as np\n",
    "import warnings as wr \n",
    "wr.filterwarnings('ignore')"
   ]
  },
  {
   "cell_type": "code",
   "execution_count": 2,
   "id": "bfabfe40",
   "metadata": {},
   "outputs": [],
   "source": [
    "df = pd.read_csv('weight-height.csv')"
   ]
  },
  {
   "cell_type": "code",
   "execution_count": 3,
   "id": "63d2a5a8",
   "metadata": {},
   "outputs": [
    {
     "data": {
      "text/html": [
       "<div>\n",
       "<style scoped>\n",
       "    .dataframe tbody tr th:only-of-type {\n",
       "        vertical-align: middle;\n",
       "    }\n",
       "\n",
       "    .dataframe tbody tr th {\n",
       "        vertical-align: top;\n",
       "    }\n",
       "\n",
       "    .dataframe thead th {\n",
       "        text-align: right;\n",
       "    }\n",
       "</style>\n",
       "<table border=\"1\" class=\"dataframe\">\n",
       "  <thead>\n",
       "    <tr style=\"text-align: right;\">\n",
       "      <th></th>\n",
       "      <th>Gender</th>\n",
       "      <th>Height</th>\n",
       "      <th>Weight</th>\n",
       "    </tr>\n",
       "  </thead>\n",
       "  <tbody>\n",
       "    <tr>\n",
       "      <th>0</th>\n",
       "      <td>Male</td>\n",
       "      <td>73.847017</td>\n",
       "      <td>241.893563</td>\n",
       "    </tr>\n",
       "    <tr>\n",
       "      <th>1</th>\n",
       "      <td>Male</td>\n",
       "      <td>68.781904</td>\n",
       "      <td>162.310473</td>\n",
       "    </tr>\n",
       "    <tr>\n",
       "      <th>2</th>\n",
       "      <td>Male</td>\n",
       "      <td>74.110105</td>\n",
       "      <td>212.740856</td>\n",
       "    </tr>\n",
       "    <tr>\n",
       "      <th>3</th>\n",
       "      <td>Male</td>\n",
       "      <td>71.730978</td>\n",
       "      <td>220.042470</td>\n",
       "    </tr>\n",
       "    <tr>\n",
       "      <th>4</th>\n",
       "      <td>Male</td>\n",
       "      <td>69.881796</td>\n",
       "      <td>206.349801</td>\n",
       "    </tr>\n",
       "  </tbody>\n",
       "</table>\n",
       "</div>"
      ],
      "text/plain": [
       "  Gender     Height      Weight\n",
       "0   Male  73.847017  241.893563\n",
       "1   Male  68.781904  162.310473\n",
       "2   Male  74.110105  212.740856\n",
       "3   Male  71.730978  220.042470\n",
       "4   Male  69.881796  206.349801"
      ]
     },
     "execution_count": 3,
     "metadata": {},
     "output_type": "execute_result"
    }
   ],
   "source": [
    "df.head()"
   ]
  },
  {
   "cell_type": "code",
   "execution_count": 4,
   "id": "c4e4f03f",
   "metadata": {},
   "outputs": [],
   "source": [
    "df.replace(to_replace=[\"Male\", \"Female\"], value=[1,0], inplace=True) #male=1 ' female=0'"
   ]
  },
  {
   "cell_type": "code",
   "execution_count": 5,
   "id": "59259a6f",
   "metadata": {},
   "outputs": [
    {
     "name": "stdout",
     "output_type": "stream",
     "text": [
      "<class 'pandas.core.frame.DataFrame'>\n",
      "RangeIndex: 8555 entries, 0 to 8554\n",
      "Data columns (total 3 columns):\n",
      " #   Column  Non-Null Count  Dtype  \n",
      "---  ------  --------------  -----  \n",
      " 0   Gender  8555 non-null   int64  \n",
      " 1   Height  8555 non-null   float64\n",
      " 2   Weight  8555 non-null   float64\n",
      "dtypes: float64(2), int64(1)\n",
      "memory usage: 200.6 KB\n"
     ]
    }
   ],
   "source": [
    "df.info()"
   ]
  },
  {
   "cell_type": "code",
   "execution_count": 6,
   "id": "50227724",
   "metadata": {},
   "outputs": [
    {
     "data": {
      "text/html": [
       "<div>\n",
       "<style scoped>\n",
       "    .dataframe tbody tr th:only-of-type {\n",
       "        vertical-align: middle;\n",
       "    }\n",
       "\n",
       "    .dataframe tbody tr th {\n",
       "        vertical-align: top;\n",
       "    }\n",
       "\n",
       "    .dataframe thead th {\n",
       "        text-align: right;\n",
       "    }\n",
       "</style>\n",
       "<table border=\"1\" class=\"dataframe\">\n",
       "  <thead>\n",
       "    <tr style=\"text-align: right;\">\n",
       "      <th></th>\n",
       "      <th>Gender</th>\n",
       "      <th>Height</th>\n",
       "      <th>Weight</th>\n",
       "    </tr>\n",
       "  </thead>\n",
       "  <tbody>\n",
       "    <tr>\n",
       "      <th>0</th>\n",
       "      <td>1</td>\n",
       "      <td>73.847017</td>\n",
       "      <td>241.893563</td>\n",
       "    </tr>\n",
       "    <tr>\n",
       "      <th>1</th>\n",
       "      <td>1</td>\n",
       "      <td>68.781904</td>\n",
       "      <td>162.310473</td>\n",
       "    </tr>\n",
       "    <tr>\n",
       "      <th>2</th>\n",
       "      <td>1</td>\n",
       "      <td>74.110105</td>\n",
       "      <td>212.740856</td>\n",
       "    </tr>\n",
       "    <tr>\n",
       "      <th>3</th>\n",
       "      <td>1</td>\n",
       "      <td>71.730978</td>\n",
       "      <td>220.042470</td>\n",
       "    </tr>\n",
       "    <tr>\n",
       "      <th>4</th>\n",
       "      <td>1</td>\n",
       "      <td>69.881796</td>\n",
       "      <td>206.349801</td>\n",
       "    </tr>\n",
       "  </tbody>\n",
       "</table>\n",
       "</div>"
      ],
      "text/plain": [
       "   Gender     Height      Weight\n",
       "0       1  73.847017  241.893563\n",
       "1       1  68.781904  162.310473\n",
       "2       1  74.110105  212.740856\n",
       "3       1  71.730978  220.042470\n",
       "4       1  69.881796  206.349801"
      ]
     },
     "execution_count": 6,
     "metadata": {},
     "output_type": "execute_result"
    }
   ],
   "source": [
    "df.head()"
   ]
  },
  {
   "cell_type": "code",
   "execution_count": 7,
   "id": "60059475",
   "metadata": {},
   "outputs": [
    {
     "data": {
      "text/plain": [
       "1    5000\n",
       "0    3555\n",
       "Name: Gender, dtype: int64"
      ]
     },
     "execution_count": 7,
     "metadata": {},
     "output_type": "execute_result"
    }
   ],
   "source": [
    "df.Gender.value_counts()"
   ]
  },
  {
   "cell_type": "markdown",
   "id": "a9389c92",
   "metadata": {},
   "source": [
    "# Step 01 - Regression"
   ]
  },
  {
   "cell_type": "code",
   "execution_count": 8,
   "id": "06e3e355",
   "metadata": {},
   "outputs": [],
   "source": [
    "#Seperate X,y\n",
    "x = df.drop('Weight', axis=1)\n",
    "y = df[['Weight']]"
   ]
  },
  {
   "cell_type": "code",
   "execution_count": 9,
   "id": "23357b18",
   "metadata": {},
   "outputs": [
    {
     "data": {
      "text/html": [
       "<div>\n",
       "<style scoped>\n",
       "    .dataframe tbody tr th:only-of-type {\n",
       "        vertical-align: middle;\n",
       "    }\n",
       "\n",
       "    .dataframe tbody tr th {\n",
       "        vertical-align: top;\n",
       "    }\n",
       "\n",
       "    .dataframe thead th {\n",
       "        text-align: right;\n",
       "    }\n",
       "</style>\n",
       "<table border=\"1\" class=\"dataframe\">\n",
       "  <thead>\n",
       "    <tr style=\"text-align: right;\">\n",
       "      <th></th>\n",
       "      <th>Gender</th>\n",
       "      <th>Height</th>\n",
       "    </tr>\n",
       "  </thead>\n",
       "  <tbody>\n",
       "    <tr>\n",
       "      <th>0</th>\n",
       "      <td>1</td>\n",
       "      <td>73.847017</td>\n",
       "    </tr>\n",
       "    <tr>\n",
       "      <th>1</th>\n",
       "      <td>1</td>\n",
       "      <td>68.781904</td>\n",
       "    </tr>\n",
       "    <tr>\n",
       "      <th>2</th>\n",
       "      <td>1</td>\n",
       "      <td>74.110105</td>\n",
       "    </tr>\n",
       "    <tr>\n",
       "      <th>3</th>\n",
       "      <td>1</td>\n",
       "      <td>71.730978</td>\n",
       "    </tr>\n",
       "    <tr>\n",
       "      <th>4</th>\n",
       "      <td>1</td>\n",
       "      <td>69.881796</td>\n",
       "    </tr>\n",
       "  </tbody>\n",
       "</table>\n",
       "</div>"
      ],
      "text/plain": [
       "   Gender     Height\n",
       "0       1  73.847017\n",
       "1       1  68.781904\n",
       "2       1  74.110105\n",
       "3       1  71.730978\n",
       "4       1  69.881796"
      ]
     },
     "execution_count": 9,
     "metadata": {},
     "output_type": "execute_result"
    }
   ],
   "source": [
    "x.head()"
   ]
  },
  {
   "cell_type": "code",
   "execution_count": 10,
   "id": "043b9f87",
   "metadata": {},
   "outputs": [
    {
     "data": {
      "text/html": [
       "<div>\n",
       "<style scoped>\n",
       "    .dataframe tbody tr th:only-of-type {\n",
       "        vertical-align: middle;\n",
       "    }\n",
       "\n",
       "    .dataframe tbody tr th {\n",
       "        vertical-align: top;\n",
       "    }\n",
       "\n",
       "    .dataframe thead th {\n",
       "        text-align: right;\n",
       "    }\n",
       "</style>\n",
       "<table border=\"1\" class=\"dataframe\">\n",
       "  <thead>\n",
       "    <tr style=\"text-align: right;\">\n",
       "      <th></th>\n",
       "      <th>Weight</th>\n",
       "    </tr>\n",
       "  </thead>\n",
       "  <tbody>\n",
       "    <tr>\n",
       "      <th>0</th>\n",
       "      <td>241.893563</td>\n",
       "    </tr>\n",
       "    <tr>\n",
       "      <th>1</th>\n",
       "      <td>162.310473</td>\n",
       "    </tr>\n",
       "    <tr>\n",
       "      <th>2</th>\n",
       "      <td>212.740856</td>\n",
       "    </tr>\n",
       "    <tr>\n",
       "      <th>3</th>\n",
       "      <td>220.042470</td>\n",
       "    </tr>\n",
       "    <tr>\n",
       "      <th>4</th>\n",
       "      <td>206.349801</td>\n",
       "    </tr>\n",
       "  </tbody>\n",
       "</table>\n",
       "</div>"
      ],
      "text/plain": [
       "       Weight\n",
       "0  241.893563\n",
       "1  162.310473\n",
       "2  212.740856\n",
       "3  220.042470\n",
       "4  206.349801"
      ]
     },
     "execution_count": 10,
     "metadata": {},
     "output_type": "execute_result"
    }
   ],
   "source": [
    "y.head()"
   ]
  },
  {
   "cell_type": "code",
   "execution_count": 11,
   "id": "991ce396",
   "metadata": {},
   "outputs": [],
   "source": [
    "from sklearn.model_selection import train_test_split\n",
    "x_train, x_test, y_train, y_test = train_test_split(x, y, test_size=.30, random_state=123) #train_size = .70 "
   ]
  },
  {
   "cell_type": "code",
   "execution_count": 12,
   "id": "06ce4dcf",
   "metadata": {},
   "outputs": [
    {
     "name": "stdout",
     "output_type": "stream",
     "text": [
      "Shape of X_train =  (5988, 2)\n",
      "Shape of y_train =  (5988, 1)\n",
      "Shape of X_test =  (2567, 2)\n",
      "Shape of y_test =  (2567, 1)\n"
     ]
    }
   ],
   "source": [
    "#check all shape here \n",
    "print('Shape of X_train = ', x_train.shape)\n",
    "print('Shape of y_train = ', y_train.shape)\n",
    "print('Shape of X_test = ', x_test.shape)\n",
    "print('Shape of y_test = ', y_test.shape)"
   ]
  },
  {
   "cell_type": "code",
   "execution_count": 13,
   "id": "0ffab59b",
   "metadata": {},
   "outputs": [
    {
     "data": {
      "text/html": [
       "<div>\n",
       "<style scoped>\n",
       "    .dataframe tbody tr th:only-of-type {\n",
       "        vertical-align: middle;\n",
       "    }\n",
       "\n",
       "    .dataframe tbody tr th {\n",
       "        vertical-align: top;\n",
       "    }\n",
       "\n",
       "    .dataframe thead th {\n",
       "        text-align: right;\n",
       "    }\n",
       "</style>\n",
       "<table border=\"1\" class=\"dataframe\">\n",
       "  <thead>\n",
       "    <tr style=\"text-align: right;\">\n",
       "      <th></th>\n",
       "      <th>Gender</th>\n",
       "      <th>Height</th>\n",
       "    </tr>\n",
       "  </thead>\n",
       "  <tbody>\n",
       "    <tr>\n",
       "      <th>6811</th>\n",
       "      <td>0</td>\n",
       "      <td>63.068203</td>\n",
       "    </tr>\n",
       "    <tr>\n",
       "      <th>48</th>\n",
       "      <td>1</td>\n",
       "      <td>69.179858</td>\n",
       "    </tr>\n",
       "    <tr>\n",
       "      <th>72</th>\n",
       "      <td>1</td>\n",
       "      <td>69.663725</td>\n",
       "    </tr>\n",
       "    <tr>\n",
       "      <th>2762</th>\n",
       "      <td>1</td>\n",
       "      <td>68.141642</td>\n",
       "    </tr>\n",
       "    <tr>\n",
       "      <th>5262</th>\n",
       "      <td>0</td>\n",
       "      <td>61.752696</td>\n",
       "    </tr>\n",
       "    <tr>\n",
       "      <th>...</th>\n",
       "      <td>...</td>\n",
       "      <td>...</td>\n",
       "    </tr>\n",
       "    <tr>\n",
       "      <th>7382</th>\n",
       "      <td>0</td>\n",
       "      <td>62.485691</td>\n",
       "    </tr>\n",
       "    <tr>\n",
       "      <th>7763</th>\n",
       "      <td>0</td>\n",
       "      <td>66.317755</td>\n",
       "    </tr>\n",
       "    <tr>\n",
       "      <th>5218</th>\n",
       "      <td>0</td>\n",
       "      <td>63.319818</td>\n",
       "    </tr>\n",
       "    <tr>\n",
       "      <th>1346</th>\n",
       "      <td>1</td>\n",
       "      <td>68.997440</td>\n",
       "    </tr>\n",
       "    <tr>\n",
       "      <th>3582</th>\n",
       "      <td>1</td>\n",
       "      <td>66.445147</td>\n",
       "    </tr>\n",
       "  </tbody>\n",
       "</table>\n",
       "<p>5988 rows × 2 columns</p>\n",
       "</div>"
      ],
      "text/plain": [
       "      Gender     Height\n",
       "6811       0  63.068203\n",
       "48         1  69.179858\n",
       "72         1  69.663725\n",
       "2762       1  68.141642\n",
       "5262       0  61.752696\n",
       "...      ...        ...\n",
       "7382       0  62.485691\n",
       "7763       0  66.317755\n",
       "5218       0  63.319818\n",
       "1346       1  68.997440\n",
       "3582       1  66.445147\n",
       "\n",
       "[5988 rows x 2 columns]"
      ]
     },
     "execution_count": 13,
     "metadata": {},
     "output_type": "execute_result"
    }
   ],
   "source": [
    "x_train"
   ]
  },
  {
   "cell_type": "code",
   "execution_count": 14,
   "id": "fe73e8f0",
   "metadata": {},
   "outputs": [
    {
     "data": {
      "text/html": [
       "<div>\n",
       "<style scoped>\n",
       "    .dataframe tbody tr th:only-of-type {\n",
       "        vertical-align: middle;\n",
       "    }\n",
       "\n",
       "    .dataframe tbody tr th {\n",
       "        vertical-align: top;\n",
       "    }\n",
       "\n",
       "    .dataframe thead th {\n",
       "        text-align: right;\n",
       "    }\n",
       "</style>\n",
       "<table border=\"1\" class=\"dataframe\">\n",
       "  <thead>\n",
       "    <tr style=\"text-align: right;\">\n",
       "      <th></th>\n",
       "      <th>Weight</th>\n",
       "    </tr>\n",
       "  </thead>\n",
       "  <tbody>\n",
       "    <tr>\n",
       "      <th>6811</th>\n",
       "      <td>93.424239</td>\n",
       "    </tr>\n",
       "    <tr>\n",
       "      <th>48</th>\n",
       "      <td>192.014335</td>\n",
       "    </tr>\n",
       "    <tr>\n",
       "      <th>72</th>\n",
       "      <td>177.200929</td>\n",
       "    </tr>\n",
       "    <tr>\n",
       "      <th>2762</th>\n",
       "      <td>170.799951</td>\n",
       "    </tr>\n",
       "    <tr>\n",
       "      <th>5262</th>\n",
       "      <td>112.909948</td>\n",
       "    </tr>\n",
       "    <tr>\n",
       "      <th>...</th>\n",
       "      <td>...</td>\n",
       "    </tr>\n",
       "    <tr>\n",
       "      <th>7382</th>\n",
       "      <td>116.460807</td>\n",
       "    </tr>\n",
       "    <tr>\n",
       "      <th>7763</th>\n",
       "      <td>151.211972</td>\n",
       "    </tr>\n",
       "    <tr>\n",
       "      <th>5218</th>\n",
       "      <td>119.315988</td>\n",
       "    </tr>\n",
       "    <tr>\n",
       "      <th>1346</th>\n",
       "      <td>200.313016</td>\n",
       "    </tr>\n",
       "    <tr>\n",
       "      <th>3582</th>\n",
       "      <td>163.293387</td>\n",
       "    </tr>\n",
       "  </tbody>\n",
       "</table>\n",
       "<p>5988 rows × 1 columns</p>\n",
       "</div>"
      ],
      "text/plain": [
       "          Weight\n",
       "6811   93.424239\n",
       "48    192.014335\n",
       "72    177.200929\n",
       "2762  170.799951\n",
       "5262  112.909948\n",
       "...          ...\n",
       "7382  116.460807\n",
       "7763  151.211972\n",
       "5218  119.315988\n",
       "1346  200.313016\n",
       "3582  163.293387\n",
       "\n",
       "[5988 rows x 1 columns]"
      ]
     },
     "execution_count": 14,
     "metadata": {},
     "output_type": "execute_result"
    }
   ],
   "source": [
    "y_train"
   ]
  },
  {
   "cell_type": "code",
   "execution_count": 15,
   "id": "109a00d0",
   "metadata": {},
   "outputs": [
    {
     "data": {
      "text/html": [
       "<div>\n",
       "<style scoped>\n",
       "    .dataframe tbody tr th:only-of-type {\n",
       "        vertical-align: middle;\n",
       "    }\n",
       "\n",
       "    .dataframe tbody tr th {\n",
       "        vertical-align: top;\n",
       "    }\n",
       "\n",
       "    .dataframe thead th {\n",
       "        text-align: right;\n",
       "    }\n",
       "</style>\n",
       "<table border=\"1\" class=\"dataframe\">\n",
       "  <thead>\n",
       "    <tr style=\"text-align: right;\">\n",
       "      <th></th>\n",
       "      <th>Gender</th>\n",
       "      <th>Height</th>\n",
       "    </tr>\n",
       "  </thead>\n",
       "  <tbody>\n",
       "    <tr>\n",
       "      <th>4025</th>\n",
       "      <td>1</td>\n",
       "      <td>69.201493</td>\n",
       "    </tr>\n",
       "    <tr>\n",
       "      <th>5899</th>\n",
       "      <td>0</td>\n",
       "      <td>69.246764</td>\n",
       "    </tr>\n",
       "    <tr>\n",
       "      <th>2943</th>\n",
       "      <td>1</td>\n",
       "      <td>72.707224</td>\n",
       "    </tr>\n",
       "    <tr>\n",
       "      <th>1769</th>\n",
       "      <td>1</td>\n",
       "      <td>69.963912</td>\n",
       "    </tr>\n",
       "    <tr>\n",
       "      <th>7863</th>\n",
       "      <td>0</td>\n",
       "      <td>67.828343</td>\n",
       "    </tr>\n",
       "    <tr>\n",
       "      <th>...</th>\n",
       "      <td>...</td>\n",
       "      <td>...</td>\n",
       "    </tr>\n",
       "    <tr>\n",
       "      <th>8092</th>\n",
       "      <td>0</td>\n",
       "      <td>60.414750</td>\n",
       "    </tr>\n",
       "    <tr>\n",
       "      <th>8003</th>\n",
       "      <td>0</td>\n",
       "      <td>56.105370</td>\n",
       "    </tr>\n",
       "    <tr>\n",
       "      <th>237</th>\n",
       "      <td>1</td>\n",
       "      <td>67.947570</td>\n",
       "    </tr>\n",
       "    <tr>\n",
       "      <th>3260</th>\n",
       "      <td>1</td>\n",
       "      <td>62.951150</td>\n",
       "    </tr>\n",
       "    <tr>\n",
       "      <th>685</th>\n",
       "      <td>1</td>\n",
       "      <td>72.454633</td>\n",
       "    </tr>\n",
       "  </tbody>\n",
       "</table>\n",
       "<p>2567 rows × 2 columns</p>\n",
       "</div>"
      ],
      "text/plain": [
       "      Gender     Height\n",
       "4025       1  69.201493\n",
       "5899       0  69.246764\n",
       "2943       1  72.707224\n",
       "1769       1  69.963912\n",
       "7863       0  67.828343\n",
       "...      ...        ...\n",
       "8092       0  60.414750\n",
       "8003       0  56.105370\n",
       "237        1  67.947570\n",
       "3260       1  62.951150\n",
       "685        1  72.454633\n",
       "\n",
       "[2567 rows x 2 columns]"
      ]
     },
     "execution_count": 15,
     "metadata": {},
     "output_type": "execute_result"
    }
   ],
   "source": [
    "x_test"
   ]
  },
  {
   "cell_type": "code",
   "execution_count": 16,
   "id": "16ed2b5f",
   "metadata": {},
   "outputs": [
    {
     "data": {
      "text/html": [
       "<div>\n",
       "<style scoped>\n",
       "    .dataframe tbody tr th:only-of-type {\n",
       "        vertical-align: middle;\n",
       "    }\n",
       "\n",
       "    .dataframe tbody tr th {\n",
       "        vertical-align: top;\n",
       "    }\n",
       "\n",
       "    .dataframe thead th {\n",
       "        text-align: right;\n",
       "    }\n",
       "</style>\n",
       "<table border=\"1\" class=\"dataframe\">\n",
       "  <thead>\n",
       "    <tr style=\"text-align: right;\">\n",
       "      <th></th>\n",
       "      <th>Weight</th>\n",
       "    </tr>\n",
       "  </thead>\n",
       "  <tbody>\n",
       "    <tr>\n",
       "      <th>4025</th>\n",
       "      <td>176.220870</td>\n",
       "    </tr>\n",
       "    <tr>\n",
       "      <th>5899</th>\n",
       "      <td>168.218019</td>\n",
       "    </tr>\n",
       "    <tr>\n",
       "      <th>2943</th>\n",
       "      <td>204.365104</td>\n",
       "    </tr>\n",
       "    <tr>\n",
       "      <th>1769</th>\n",
       "      <td>191.065448</td>\n",
       "    </tr>\n",
       "    <tr>\n",
       "      <th>7863</th>\n",
       "      <td>173.360437</td>\n",
       "    </tr>\n",
       "    <tr>\n",
       "      <th>...</th>\n",
       "      <td>...</td>\n",
       "    </tr>\n",
       "    <tr>\n",
       "      <th>8092</th>\n",
       "      <td>124.706690</td>\n",
       "    </tr>\n",
       "    <tr>\n",
       "      <th>8003</th>\n",
       "      <td>87.298869</td>\n",
       "    </tr>\n",
       "    <tr>\n",
       "      <th>237</th>\n",
       "      <td>177.347780</td>\n",
       "    </tr>\n",
       "    <tr>\n",
       "      <th>3260</th>\n",
       "      <td>145.694359</td>\n",
       "    </tr>\n",
       "    <tr>\n",
       "      <th>685</th>\n",
       "      <td>200.290005</td>\n",
       "    </tr>\n",
       "  </tbody>\n",
       "</table>\n",
       "<p>2567 rows × 1 columns</p>\n",
       "</div>"
      ],
      "text/plain": [
       "          Weight\n",
       "4025  176.220870\n",
       "5899  168.218019\n",
       "2943  204.365104\n",
       "1769  191.065448\n",
       "7863  173.360437\n",
       "...          ...\n",
       "8092  124.706690\n",
       "8003   87.298869\n",
       "237   177.347780\n",
       "3260  145.694359\n",
       "685   200.290005\n",
       "\n",
       "[2567 rows x 1 columns]"
      ]
     },
     "execution_count": 16,
     "metadata": {},
     "output_type": "execute_result"
    }
   ],
   "source": [
    "y_test"
   ]
  },
  {
   "cell_type": "code",
   "execution_count": 17,
   "id": "6ba3bf01",
   "metadata": {},
   "outputs": [],
   "source": [
    "from sklearn.linear_model import LinearRegression"
   ]
  },
  {
   "cell_type": "code",
   "execution_count": 18,
   "id": "9d82276a",
   "metadata": {},
   "outputs": [
    {
     "data": {
      "text/plain": [
       "LinearRegression()"
      ]
     },
     "execution_count": 18,
     "metadata": {},
     "output_type": "execute_result"
    }
   ],
   "source": [
    "lr = LinearRegression()\n",
    "lr"
   ]
  },
  {
   "cell_type": "code",
   "execution_count": 19,
   "id": "a7c3cdb2",
   "metadata": {},
   "outputs": [
    {
     "data": {
      "text/plain": [
       "LinearRegression()"
      ]
     },
     "execution_count": 19,
     "metadata": {},
     "output_type": "execute_result"
    }
   ],
   "source": [
    "lr.fit(x_train,y_train)"
   ]
  },
  {
   "cell_type": "code",
   "execution_count": 20,
   "id": "812677f9",
   "metadata": {},
   "outputs": [],
   "source": [
    "# y = mx+c \n",
    "\n",
    "# m -> slope of the equation/Coefficient\n",
    "# c -> y intercept\n",
    "# Y -> dependent variable\n",
    "# X -> independent variable"
   ]
  },
  {
   "cell_type": "code",
   "execution_count": 21,
   "id": "c8137312",
   "metadata": {},
   "outputs": [
    {
     "data": {
      "text/plain": [
       "array([[19.51079387,  5.98461303]])"
      ]
     },
     "execution_count": 21,
     "metadata": {},
     "output_type": "execute_result"
    }
   ],
   "source": [
    "m = lr.coef_ \n",
    "m"
   ]
  },
  {
   "cell_type": "code",
   "execution_count": 22,
   "id": "9c9ce8cb",
   "metadata": {},
   "outputs": [
    {
     "data": {
      "text/plain": [
       "array([-245.71718659])"
      ]
     },
     "execution_count": 22,
     "metadata": {},
     "output_type": "execute_result"
    }
   ],
   "source": [
    "c = lr.intercept_ \n",
    "c"
   ]
  },
  {
   "cell_type": "code",
   "execution_count": 23,
   "id": "1867ba07",
   "metadata": {},
   "outputs": [
    {
     "data": {
      "text/plain": [
       "array([[187.93776592],\n",
       "       [168.69789799],\n",
       "       [208.91820816],\n",
       "       ...,\n",
       "       [180.43352055],\n",
       "       [150.53188162],\n",
       "       [207.4065508 ]])"
      ]
     },
     "execution_count": 23,
     "metadata": {},
     "output_type": "execute_result"
    }
   ],
   "source": [
    "predcition = lr.predict(x_test)\n",
    "predcition"
   ]
  },
  {
   "cell_type": "code",
   "execution_count": 24,
   "id": "446e7024",
   "metadata": {},
   "outputs": [
    {
     "data": {
      "text/plain": [
       "array([[192.00911444]])"
      ]
     },
     "execution_count": 24,
     "metadata": {},
     "output_type": "execute_result"
    }
   ],
   "source": [
    "lr.predict([[1,69.881796]]) #4  1\t69.881796"
   ]
  },
  {
   "cell_type": "code",
   "execution_count": 25,
   "id": "a9c34f01",
   "metadata": {},
   "outputs": [
    {
     "data": {
      "text/plain": [
       "0.8997829055636625"
      ]
     },
     "execution_count": 25,
     "metadata": {},
     "output_type": "execute_result"
    }
   ],
   "source": [
    "lr_score=lr.score(x_train,y_train)\n",
    "lr_score"
   ]
  },
  {
   "cell_type": "code",
   "execution_count": 26,
   "id": "6f8867a8",
   "metadata": {},
   "outputs": [],
   "source": [
    "#MSE \n",
    "from sklearn.metrics import mean_squared_error, mean_absolute_error"
   ]
  },
  {
   "cell_type": "code",
   "execution_count": 27,
   "id": "80befd52",
   "metadata": {},
   "outputs": [
    {
     "data": {
      "text/plain": [
       "101.13990010493346"
      ]
     },
     "execution_count": 27,
     "metadata": {},
     "output_type": "execute_result"
    }
   ],
   "source": [
    "mean_squared_error(y_test,predcition)"
   ]
  },
  {
   "cell_type": "code",
   "execution_count": 28,
   "id": "273e77bf",
   "metadata": {},
   "outputs": [
    {
     "data": {
      "text/plain": [
       "7.894465961090847"
      ]
     },
     "execution_count": 28,
     "metadata": {},
     "output_type": "execute_result"
    }
   ],
   "source": [
    "mean_absolute_error(y_test, predcition)"
   ]
  },
  {
   "cell_type": "markdown",
   "id": "ea88a148",
   "metadata": {},
   "source": [
    "# KNN Regressor weights=\"uniform\""
   ]
  },
  {
   "cell_type": "code",
   "execution_count": 29,
   "id": "2d136520",
   "metadata": {},
   "outputs": [],
   "source": [
    "from sklearn.neighbors import KNeighborsRegressor"
   ]
  },
  {
   "cell_type": "code",
   "execution_count": 30,
   "id": "8c6e9a7c",
   "metadata": {},
   "outputs": [
    {
     "data": {
      "text/plain": [
       "KNeighborsRegressor(n_neighbors=101)"
      ]
     },
     "execution_count": 30,
     "metadata": {},
     "output_type": "execute_result"
    }
   ],
   "source": [
    "K_nei_reg_uniform = KNeighborsRegressor(weights= 'uniform',n_neighbors=101)\n",
    "K_nei_reg_uniform"
   ]
  },
  {
   "cell_type": "code",
   "execution_count": 31,
   "id": "02feb4a7",
   "metadata": {},
   "outputs": [
    {
     "data": {
      "text/plain": [
       "KNeighborsRegressor(n_neighbors=101)"
      ]
     },
     "execution_count": 31,
     "metadata": {},
     "output_type": "execute_result"
    }
   ],
   "source": [
    "K_nei_reg_uniform.fit(x_train,y_train)"
   ]
  },
  {
   "cell_type": "code",
   "execution_count": 32,
   "id": "38f90a0b",
   "metadata": {},
   "outputs": [],
   "source": [
    "predcition2 = K_nei_reg_uniform.predict(x_test)"
   ]
  },
  {
   "cell_type": "code",
   "execution_count": 33,
   "id": "2feb27ba",
   "metadata": {},
   "outputs": [
    {
     "data": {
      "text/plain": [
       "105.02852156594057"
      ]
     },
     "execution_count": 33,
     "metadata": {},
     "output_type": "execute_result"
    }
   ],
   "source": [
    "mean_squared_error(y_test,predcition2)"
   ]
  },
  {
   "cell_type": "code",
   "execution_count": 34,
   "id": "4aed9198",
   "metadata": {},
   "outputs": [
    {
     "data": {
      "text/plain": [
       "8.015097621619875"
      ]
     },
     "execution_count": 34,
     "metadata": {},
     "output_type": "execute_result"
    }
   ],
   "source": [
    "mean_absolute_error(y_test,predcition2)"
   ]
  },
  {
   "cell_type": "code",
   "execution_count": 35,
   "id": "49b2d2d9",
   "metadata": {},
   "outputs": [
    {
     "data": {
      "text/plain": [
       "0.8964961382621226"
      ]
     },
     "execution_count": 35,
     "metadata": {},
     "output_type": "execute_result"
    }
   ],
   "source": [
    "kr_uni_score = K_nei_reg_uniform.score(x_test,y_test)\n",
    "kr_uni_score"
   ]
  },
  {
   "cell_type": "code",
   "execution_count": 36,
   "id": "2027e3e2",
   "metadata": {},
   "outputs": [
    {
     "data": {
      "text/plain": [
       "Gender     1.000000\n",
       "Height    72.454633\n",
       "Name: 685, dtype: float64"
      ]
     },
     "execution_count": 36,
     "metadata": {},
     "output_type": "execute_result"
    }
   ],
   "source": [
    "x_test.iloc[-1, :]"
   ]
  },
  {
   "cell_type": "code",
   "execution_count": 37,
   "id": "ab6d62b8",
   "metadata": {},
   "outputs": [
    {
     "data": {
      "text/plain": [
       "Weight    200.290005\n",
       "Name: 685, dtype: float64"
      ]
     },
     "execution_count": 37,
     "metadata": {},
     "output_type": "execute_result"
    }
   ],
   "source": [
    "y_test.iloc[-1]"
   ]
  },
  {
   "cell_type": "code",
   "execution_count": 38,
   "id": "7a3e070d",
   "metadata": {},
   "outputs": [
    {
     "data": {
      "text/plain": [
       "(2567, 1)"
      ]
     },
     "execution_count": 38,
     "metadata": {},
     "output_type": "execute_result"
    }
   ],
   "source": [
    "y_test.shape"
   ]
  },
  {
   "cell_type": "code",
   "execution_count": 39,
   "id": "1772853a",
   "metadata": {},
   "outputs": [
    {
     "data": {
      "text/plain": [
       "array([[207.33315757]])"
      ]
     },
     "execution_count": 39,
     "metadata": {},
     "output_type": "execute_result"
    }
   ],
   "source": [
    "K_nei_reg_uniform.predict([x_test.iloc[-1, :]])"
   ]
  },
  {
   "cell_type": "markdown",
   "id": "7104e5b6",
   "metadata": {},
   "source": [
    "# KNN Regressor weights='distance'"
   ]
  },
  {
   "cell_type": "code",
   "execution_count": 40,
   "id": "727c7a11",
   "metadata": {},
   "outputs": [],
   "source": [
    "K_neigh_distance = KNeighborsRegressor(weights= 'distance',n_neighbors=101)\n"
   ]
  },
  {
   "cell_type": "code",
   "execution_count": 41,
   "id": "363a3183",
   "metadata": {},
   "outputs": [
    {
     "data": {
      "text/plain": [
       "KNeighborsRegressor(n_neighbors=101, weights='distance')"
      ]
     },
     "execution_count": 41,
     "metadata": {},
     "output_type": "execute_result"
    }
   ],
   "source": [
    "K_neigh_distance.fit(x_train,y_train)"
   ]
  },
  {
   "cell_type": "code",
   "execution_count": 42,
   "id": "46488bcd",
   "metadata": {},
   "outputs": [],
   "source": [
    "predcition3 = K_neigh_distance.predict(x_test)"
   ]
  },
  {
   "cell_type": "code",
   "execution_count": 43,
   "id": "3709bfcb",
   "metadata": {},
   "outputs": [
    {
     "data": {
      "text/plain": [
       "122.61370597767602"
      ]
     },
     "execution_count": 43,
     "metadata": {},
     "output_type": "execute_result"
    }
   ],
   "source": [
    "mean_squared_error(y_test,predcition3)"
   ]
  },
  {
   "cell_type": "code",
   "execution_count": 44,
   "id": "9b880d32",
   "metadata": {},
   "outputs": [
    {
     "data": {
      "text/plain": [
       "8.711283198995789"
      ]
     },
     "execution_count": 44,
     "metadata": {},
     "output_type": "execute_result"
    }
   ],
   "source": [
    "mean_absolute_error(y_test,predcition3)"
   ]
  },
  {
   "cell_type": "code",
   "execution_count": 45,
   "id": "25c554ea",
   "metadata": {},
   "outputs": [
    {
     "data": {
      "text/plain": [
       "0.879166231405873"
      ]
     },
     "execution_count": 45,
     "metadata": {},
     "output_type": "execute_result"
    }
   ],
   "source": [
    "kr_dis_score = K_neigh_distance.score(x_test,y_test)\n",
    "kr_dis_score"
   ]
  },
  {
   "cell_type": "code",
   "execution_count": 46,
   "id": "7bfd6e79",
   "metadata": {},
   "outputs": [
    {
     "data": {
      "text/plain": [
       "array([[187.24459225],\n",
       "       [169.39618737],\n",
       "       [208.15437831],\n",
       "       ...,\n",
       "       [178.97637581],\n",
       "       [151.6374836 ],\n",
       "       [207.7617104 ]])"
      ]
     },
     "execution_count": 46,
     "metadata": {},
     "output_type": "execute_result"
    }
   ],
   "source": [
    "predcition3"
   ]
  },
  {
   "cell_type": "code",
   "execution_count": 47,
   "id": "a35202c5",
   "metadata": {},
   "outputs": [
    {
     "data": {
      "text/plain": [
       "(2567, 1)"
      ]
     },
     "execution_count": 47,
     "metadata": {},
     "output_type": "execute_result"
    }
   ],
   "source": [
    "y_test.shape"
   ]
  },
  {
   "cell_type": "code",
   "execution_count": 48,
   "id": "44f5e837",
   "metadata": {},
   "outputs": [
    {
     "data": {
      "text/plain": [
       "(2567, 2)"
      ]
     },
     "execution_count": 48,
     "metadata": {},
     "output_type": "execute_result"
    }
   ],
   "source": [
    "x_test.shape"
   ]
  },
  {
   "cell_type": "markdown",
   "id": "25545c52",
   "metadata": {},
   "source": [
    "# Step 02 - Classification"
   ]
  },
  {
   "cell_type": "code",
   "execution_count": 49,
   "id": "b03d58a7",
   "metadata": {},
   "outputs": [],
   "source": [
    "x = df.drop('Gender', axis=1)\n",
    "y = df[['Gender']]"
   ]
  },
  {
   "cell_type": "code",
   "execution_count": 50,
   "id": "cacedb66",
   "metadata": {},
   "outputs": [
    {
     "data": {
      "text/html": [
       "<div>\n",
       "<style scoped>\n",
       "    .dataframe tbody tr th:only-of-type {\n",
       "        vertical-align: middle;\n",
       "    }\n",
       "\n",
       "    .dataframe tbody tr th {\n",
       "        vertical-align: top;\n",
       "    }\n",
       "\n",
       "    .dataframe thead th {\n",
       "        text-align: right;\n",
       "    }\n",
       "</style>\n",
       "<table border=\"1\" class=\"dataframe\">\n",
       "  <thead>\n",
       "    <tr style=\"text-align: right;\">\n",
       "      <th></th>\n",
       "      <th>Gender</th>\n",
       "    </tr>\n",
       "  </thead>\n",
       "  <tbody>\n",
       "    <tr>\n",
       "      <th>0</th>\n",
       "      <td>1</td>\n",
       "    </tr>\n",
       "    <tr>\n",
       "      <th>1</th>\n",
       "      <td>1</td>\n",
       "    </tr>\n",
       "    <tr>\n",
       "      <th>2</th>\n",
       "      <td>1</td>\n",
       "    </tr>\n",
       "    <tr>\n",
       "      <th>3</th>\n",
       "      <td>1</td>\n",
       "    </tr>\n",
       "    <tr>\n",
       "      <th>4</th>\n",
       "      <td>1</td>\n",
       "    </tr>\n",
       "  </tbody>\n",
       "</table>\n",
       "</div>"
      ],
      "text/plain": [
       "   Gender\n",
       "0       1\n",
       "1       1\n",
       "2       1\n",
       "3       1\n",
       "4       1"
      ]
     },
     "execution_count": 50,
     "metadata": {},
     "output_type": "execute_result"
    }
   ],
   "source": [
    "y.head()"
   ]
  },
  {
   "cell_type": "code",
   "execution_count": 51,
   "id": "06ac9d79",
   "metadata": {},
   "outputs": [
    {
     "data": {
      "text/html": [
       "<div>\n",
       "<style scoped>\n",
       "    .dataframe tbody tr th:only-of-type {\n",
       "        vertical-align: middle;\n",
       "    }\n",
       "\n",
       "    .dataframe tbody tr th {\n",
       "        vertical-align: top;\n",
       "    }\n",
       "\n",
       "    .dataframe thead th {\n",
       "        text-align: right;\n",
       "    }\n",
       "</style>\n",
       "<table border=\"1\" class=\"dataframe\">\n",
       "  <thead>\n",
       "    <tr style=\"text-align: right;\">\n",
       "      <th></th>\n",
       "      <th>Height</th>\n",
       "      <th>Weight</th>\n",
       "    </tr>\n",
       "  </thead>\n",
       "  <tbody>\n",
       "    <tr>\n",
       "      <th>0</th>\n",
       "      <td>73.847017</td>\n",
       "      <td>241.893563</td>\n",
       "    </tr>\n",
       "    <tr>\n",
       "      <th>1</th>\n",
       "      <td>68.781904</td>\n",
       "      <td>162.310473</td>\n",
       "    </tr>\n",
       "    <tr>\n",
       "      <th>2</th>\n",
       "      <td>74.110105</td>\n",
       "      <td>212.740856</td>\n",
       "    </tr>\n",
       "    <tr>\n",
       "      <th>3</th>\n",
       "      <td>71.730978</td>\n",
       "      <td>220.042470</td>\n",
       "    </tr>\n",
       "    <tr>\n",
       "      <th>4</th>\n",
       "      <td>69.881796</td>\n",
       "      <td>206.349801</td>\n",
       "    </tr>\n",
       "  </tbody>\n",
       "</table>\n",
       "</div>"
      ],
      "text/plain": [
       "      Height      Weight\n",
       "0  73.847017  241.893563\n",
       "1  68.781904  162.310473\n",
       "2  74.110105  212.740856\n",
       "3  71.730978  220.042470\n",
       "4  69.881796  206.349801"
      ]
     },
     "execution_count": 51,
     "metadata": {},
     "output_type": "execute_result"
    }
   ],
   "source": [
    "x.head()"
   ]
  },
  {
   "cell_type": "code",
   "execution_count": 52,
   "id": "a792046e",
   "metadata": {},
   "outputs": [],
   "source": [
    "x_train1,x_test1,y_train1,y_test1 = train_test_split(x,y, test_size = .30, random_state = 0) #train_size = .70 "
   ]
  },
  {
   "cell_type": "code",
   "execution_count": 53,
   "id": "8bbef869",
   "metadata": {},
   "outputs": [
    {
     "data": {
      "text/html": [
       "<div>\n",
       "<style scoped>\n",
       "    .dataframe tbody tr th:only-of-type {\n",
       "        vertical-align: middle;\n",
       "    }\n",
       "\n",
       "    .dataframe tbody tr th {\n",
       "        vertical-align: top;\n",
       "    }\n",
       "\n",
       "    .dataframe thead th {\n",
       "        text-align: right;\n",
       "    }\n",
       "</style>\n",
       "<table border=\"1\" class=\"dataframe\">\n",
       "  <thead>\n",
       "    <tr style=\"text-align: right;\">\n",
       "      <th></th>\n",
       "      <th>Height</th>\n",
       "      <th>Weight</th>\n",
       "    </tr>\n",
       "  </thead>\n",
       "  <tbody>\n",
       "    <tr>\n",
       "      <th>3197</th>\n",
       "      <td>69.689848</td>\n",
       "      <td>186.377448</td>\n",
       "    </tr>\n",
       "    <tr>\n",
       "      <th>4394</th>\n",
       "      <td>66.299441</td>\n",
       "      <td>159.235988</td>\n",
       "    </tr>\n",
       "    <tr>\n",
       "      <th>7711</th>\n",
       "      <td>63.261527</td>\n",
       "      <td>126.426793</td>\n",
       "    </tr>\n",
       "    <tr>\n",
       "      <th>7019</th>\n",
       "      <td>62.035319</td>\n",
       "      <td>119.418135</td>\n",
       "    </tr>\n",
       "    <tr>\n",
       "      <th>898</th>\n",
       "      <td>67.272171</td>\n",
       "      <td>187.363366</td>\n",
       "    </tr>\n",
       "  </tbody>\n",
       "</table>\n",
       "</div>"
      ],
      "text/plain": [
       "         Height      Weight\n",
       "3197  69.689848  186.377448\n",
       "4394  66.299441  159.235988\n",
       "7711  63.261527  126.426793\n",
       "7019  62.035319  119.418135\n",
       "898   67.272171  187.363366"
      ]
     },
     "execution_count": 53,
     "metadata": {},
     "output_type": "execute_result"
    }
   ],
   "source": [
    "x_train1.head()"
   ]
  },
  {
   "cell_type": "markdown",
   "id": "71a4ecb4",
   "metadata": {},
   "source": [
    "# KNN Classifier weights='uniform'"
   ]
  },
  {
   "cell_type": "code",
   "execution_count": 54,
   "id": "938bce89",
   "metadata": {},
   "outputs": [],
   "source": [
    "from sklearn.neighbors import KNeighborsClassifier"
   ]
  },
  {
   "cell_type": "code",
   "execution_count": 55,
   "id": "f90d5c6a",
   "metadata": {},
   "outputs": [],
   "source": [
    "k_nei_cls = KNeighborsClassifier(weights= 'uniform',n_neighbors=101)"
   ]
  },
  {
   "cell_type": "code",
   "execution_count": 56,
   "id": "9c350d75",
   "metadata": {},
   "outputs": [
    {
     "data": {
      "text/plain": [
       "KNeighborsClassifier(n_neighbors=101)"
      ]
     },
     "execution_count": 56,
     "metadata": {},
     "output_type": "execute_result"
    }
   ],
   "source": [
    "k_nei_cls.fit(x_train1, y_train1)"
   ]
  },
  {
   "cell_type": "code",
   "execution_count": 57,
   "id": "e4135d0c",
   "metadata": {},
   "outputs": [
    {
     "data": {
      "text/plain": [
       "0.9115699259836385"
      ]
     },
     "execution_count": 57,
     "metadata": {},
     "output_type": "execute_result"
    }
   ],
   "source": [
    "kc_uni_score = k_nei_cls.score(x_test1,y_test1)\n",
    "kc_uni_score"
   ]
  },
  {
   "cell_type": "code",
   "execution_count": 58,
   "id": "ba4d49ab",
   "metadata": {},
   "outputs": [],
   "source": [
    "predcition4 = k_nei_cls.predict(x_test1)"
   ]
  },
  {
   "cell_type": "code",
   "execution_count": 59,
   "id": "ad94672a",
   "metadata": {},
   "outputs": [
    {
     "data": {
      "text/plain": [
       "array([1, 1, 0, ..., 1, 1, 0], dtype=int64)"
      ]
     },
     "execution_count": 59,
     "metadata": {},
     "output_type": "execute_result"
    }
   ],
   "source": [
    "predcition4"
   ]
  },
  {
   "cell_type": "code",
   "execution_count": 60,
   "id": "624e4ab7",
   "metadata": {},
   "outputs": [
    {
     "data": {
      "text/plain": [
       "Height     63.939973\n",
       "Weight    139.495957\n",
       "Name: 5034, dtype: float64"
      ]
     },
     "execution_count": 60,
     "metadata": {},
     "output_type": "execute_result"
    }
   ],
   "source": [
    "x_test1.iloc[-1, :]"
   ]
  },
  {
   "cell_type": "code",
   "execution_count": 61,
   "id": "a1893e21",
   "metadata": {},
   "outputs": [
    {
     "data": {
      "text/plain": [
       "Gender    0\n",
       "Name: 5034, dtype: int64"
      ]
     },
     "execution_count": 61,
     "metadata": {},
     "output_type": "execute_result"
    }
   ],
   "source": [
    "y_test1.iloc[-1]"
   ]
  },
  {
   "cell_type": "code",
   "execution_count": 62,
   "id": "e95df3dc",
   "metadata": {},
   "outputs": [
    {
     "data": {
      "text/plain": [
       "array([0], dtype=int64)"
      ]
     },
     "execution_count": 62,
     "metadata": {},
     "output_type": "execute_result"
    }
   ],
   "source": [
    "k_nei_cls.predict([x_test1.iloc[-1, :]])"
   ]
  },
  {
   "cell_type": "markdown",
   "id": "e408c1f3",
   "metadata": {},
   "source": [
    "# KNN Classifier weights='distance'"
   ]
  },
  {
   "cell_type": "code",
   "execution_count": 63,
   "id": "6e936c5a",
   "metadata": {},
   "outputs": [],
   "source": [
    "k_nei_cls_dis = KNeighborsClassifier(weights= 'distance',n_neighbors=101)"
   ]
  },
  {
   "cell_type": "code",
   "execution_count": 64,
   "id": "34248d64",
   "metadata": {},
   "outputs": [
    {
     "data": {
      "text/plain": [
       "KNeighborsClassifier(n_neighbors=101, weights='distance')"
      ]
     },
     "execution_count": 64,
     "metadata": {},
     "output_type": "execute_result"
    }
   ],
   "source": [
    "k_nei_cls_dis.fit(x_train1, y_train1)"
   ]
  },
  {
   "cell_type": "code",
   "execution_count": 65,
   "id": "20e7fa54",
   "metadata": {},
   "outputs": [
    {
     "data": {
      "text/plain": [
       "0.913517724970783"
      ]
     },
     "execution_count": 65,
     "metadata": {},
     "output_type": "execute_result"
    }
   ],
   "source": [
    "kc_dis_score = k_nei_cls_dis.score(x_test1,y_test1)\n",
    "kc_dis_score"
   ]
  },
  {
   "cell_type": "code",
   "execution_count": 66,
   "id": "3dba4142",
   "metadata": {},
   "outputs": [
    {
     "data": {
      "text/plain": [
       "array([1, 1, 0, ..., 1, 1, 0], dtype=int64)"
      ]
     },
     "execution_count": 66,
     "metadata": {},
     "output_type": "execute_result"
    }
   ],
   "source": [
    "predcition5 = k_nei_cls.predict(x_test1)\n",
    "predcition5"
   ]
  },
  {
   "cell_type": "code",
   "execution_count": 67,
   "id": "7328d46e",
   "metadata": {},
   "outputs": [
    {
     "data": {
      "text/plain": [
       "array([0], dtype=int64)"
      ]
     },
     "execution_count": 67,
     "metadata": {},
     "output_type": "execute_result"
    }
   ],
   "source": [
    "k_nei_cls_dis.predict([x_test1.iloc[-1, :]])"
   ]
  },
  {
   "cell_type": "markdown",
   "id": "9248fee1",
   "metadata": {},
   "source": [
    "# Compare Algorithm"
   ]
  },
  {
   "cell_type": "code",
   "execution_count": 68,
   "id": "3116630a",
   "metadata": {},
   "outputs": [
    {
     "name": "stdout",
     "output_type": "stream",
     "text": [
      "Linear Regression: 0.8997829055636625\n",
      "KNN Regressor weights= uniform 0.8964961382621226\n",
      "KNN Regressor weights=distance: 0.879166231405873\n",
      "KNN Classifier: 0.9115699259836385\n",
      "KNN Classifier: 0.913517724970783\n"
     ]
    }
   ],
   "source": [
    "print(\"Linear Regression:\", lr_score)\n",
    "print(\"KNN Regressor weights= uniform\", kr_uni_score)\n",
    "print(\"KNN Regressor weights=distance:\", kr_dis_score)\n",
    "print(\"KNN Classifier:\", kc_uni_score)\n",
    "print(\"KNN Classifier:\", kc_dis_score)"
   ]
  },
  {
   "cell_type": "code",
   "execution_count": null,
   "id": "59d53d12",
   "metadata": {},
   "outputs": [],
   "source": []
  }
 ],
 "metadata": {
  "kernelspec": {
   "display_name": "Python 3 (ipykernel)",
   "language": "python",
   "name": "python3"
  },
  "language_info": {
   "codemirror_mode": {
    "name": "ipython",
    "version": 3
   },
   "file_extension": ".py",
   "mimetype": "text/x-python",
   "name": "python",
   "nbconvert_exporter": "python",
   "pygments_lexer": "ipython3",
   "version": "3.9.13"
  }
 },
 "nbformat": 4,
 "nbformat_minor": 5
}
