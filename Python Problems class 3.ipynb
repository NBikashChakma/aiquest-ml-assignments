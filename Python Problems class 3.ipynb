{
 "cells": [
  {
   "cell_type": "markdown",
   "id": "9254a981",
   "metadata": {},
   "source": [
    "# Python Conditions:"
   ]
  },
  {
   "cell_type": "markdown",
   "id": "a9fe660f",
   "metadata": {},
   "source": [
    "1. Take values of the length & breadth of a rectangle from user input and check if it is square or not."
   ]
  },
  {
   "cell_type": "code",
   "execution_count": 3,
   "id": "dc3f773d",
   "metadata": {},
   "outputs": [
    {
     "name": "stdout",
     "output_type": "stream",
     "text": [
      "Enter the length of the rectangle: 11\n",
      "Enter the breadth of the rectangle: 12\n",
      "The rectangle is not a square.\n"
     ]
    }
   ],
   "source": [
    "length = float(input(\"Enter the length of the rectangle: \"))\n",
    "breadth = float(input(\"Enter the breadth of the rectangle: \"))\n",
    "\n",
    "if length == breadth:\n",
    "    print(\"The rectangle is a square.\")\n",
    "else:\n",
    "    print(\"The rectangle is not a square.\")\n"
   ]
  },
  {
   "cell_type": "markdown",
   "id": "c3d82021",
   "metadata": {},
   "source": [
    "2. Take three integer values from the user and print the greatest among them."
   ]
  },
  {
   "cell_type": "code",
   "execution_count": 71,
   "id": "805c5d7b",
   "metadata": {},
   "outputs": [
    {
     "name": "stdout",
     "output_type": "stream",
     "text": [
      "Enter first number: 11\n",
      "Enter second number: 12\n",
      "Enter third number: 13\n",
      "The greatest number is -: 13\n"
     ]
    }
   ],
   "source": [
    "num1 = int(input(\"Enter first number: \"))\n",
    "num2 = int(input(\"Enter second number: \"))\n",
    "num3 = int(input(\"Enter third number: \"))\n",
    "\n",
    "if (num1 >= num2) and (num1 >= num3):\n",
    "    greatest = num1\n",
    "elif (num2 >= num1) and (num2 >= num3):\n",
    "    greatest = num2\n",
    "else:\n",
    "    greatest = num3\n",
    "\n",
    "print(\"The greatest number is -:\", greatest)\n"
   ]
  },
  {
   "cell_type": "markdown",
   "id": "7dc5e8b8",
   "metadata": {},
   "source": [
    "3. A student will not be allowed to sit in an exam if his/her attendance is less than 75%."
   ]
  },
  {
   "cell_type": "code",
   "execution_count": 66,
   "id": "df39d822",
   "metadata": {},
   "outputs": [
    {
     "name": "stdout",
     "output_type": "stream",
     "text": [
      "Enter the student's attendance percentage: 74.5\n",
      "The student is not allowed to sit in the exam.\n"
     ]
    }
   ],
   "source": [
    "attendance = float(input(\"Enter the student's attendance percentage: \"))\n",
    "\n",
    "if attendance < 75.0:\n",
    "    print(\"The student is not allowed to sit in the exam.\")\n",
    "else:\n",
    "    print(\"The student is allowed to sit in the exam.\")\n"
   ]
  },
  {
   "cell_type": "markdown",
   "id": "c54d9eed",
   "metadata": {},
   "source": [
    "4. A school has the following rules for the grading system: \n",
    "Below 25 – F, 25 to 44 – E, 45 to 49 – D, 50 to 59 – C, 60 to 79 – B, 80 to 89 - A, Above 90 - A+\n",
    "Now, Ask the user to enter marks and print the corresponding grade."
   ]
  },
  {
   "cell_type": "code",
   "execution_count": 65,
   "id": "b8a3bec0",
   "metadata": {},
   "outputs": [
    {
     "name": "stdout",
     "output_type": "stream",
     "text": [
      "Enter the marks obtained: 90\n",
      "Grade: A+\n"
     ]
    }
   ],
   "source": [
    "marks = float(input(\"Enter the marks obtained: \"))\n",
    "\n",
    "if marks < 25:\n",
    "    print(\"Grade: F\")\n",
    "elif marks >= 25 and marks < 44:\n",
    "    print(\"Grade: E\")\n",
    "elif marks >= 45 and marks < 49:\n",
    "    print(\"Grade: D\")\n",
    "elif marks >= 50 and marks < 59:\n",
    "    print(\"Grade: C\")\n",
    "elif marks >= 60 and marks < 79:\n",
    "    print(\"Grade: B\")\n",
    "elif marks >= 80 and marks < 89:\n",
    "    print(\"Grade: A\")\n",
    "else:\n",
    "    print(\"Grade: A+\")\n"
   ]
  },
  {
   "cell_type": "markdown",
   "id": "e8fabe3a",
   "metadata": {},
   "source": [
    "# Loop Problem:"
   ]
  },
  {
   "cell_type": "markdown",
   "id": "68e709ac",
   "metadata": {},
   "source": [
    "5. Print the following pattern using for and while loop.\n",
    "1 2 3 4 5 6 7\n",
    "1 2 3 4 5 6\n",
    "1 2 3 4 5\n",
    "1 2 3 4"
   ]
  },
  {
   "cell_type": "code",
   "execution_count": 19,
   "id": "ab266d36",
   "metadata": {},
   "outputs": [
    {
     "name": "stdout",
     "output_type": "stream",
     "text": [
      "1 2 3 4 5 6 7 \n",
      "1 2 3 4 5 6 \n",
      "1 2 3 4 5 \n",
      "1 2 3 4 \n"
     ]
    }
   ],
   "source": [
    "# Using while Loop\n",
    "i = 8\n",
    "while i > 4:\n",
    "    j = 1\n",
    "    while j < i:\n",
    "        print(j, end=\" \")\n",
    "        j += 1\n",
    "    i -= 1\n",
    "    print(\"\")\n"
   ]
  },
  {
   "cell_type": "code",
   "execution_count": 25,
   "id": "beba87a7",
   "metadata": {},
   "outputs": [
    {
     "name": "stdout",
     "output_type": "stream",
     "text": [
      "1 2 3 4 5 6 7 \n",
      "1 2 3 4 5 6 \n",
      "1 2 3 4 5 \n",
      "1 2 3 4 \n"
     ]
    }
   ],
   "source": [
    "# Using for loop\n",
    "for i in range(8, 4, -1):\n",
    "    for j in range(1, i):\n",
    "        print(j, end=\" \")\n",
    "    print(\"\")\n"
   ]
  },
  {
   "cell_type": "markdown",
   "id": "3799dfe5",
   "metadata": {},
   "source": [
    "6. Display numbers from -100 to -10 using for loop."
   ]
  },
  {
   "cell_type": "code",
   "execution_count": 26,
   "id": "989856cf",
   "metadata": {},
   "outputs": [
    {
     "name": "stdout",
     "output_type": "stream",
     "text": [
      "-100\n",
      "-99\n",
      "-98\n",
      "-97\n",
      "-96\n",
      "-95\n",
      "-94\n",
      "-93\n",
      "-92\n",
      "-91\n",
      "-90\n",
      "-89\n",
      "-88\n",
      "-87\n",
      "-86\n",
      "-85\n",
      "-84\n",
      "-83\n",
      "-82\n",
      "-81\n",
      "-80\n",
      "-79\n",
      "-78\n",
      "-77\n",
      "-76\n",
      "-75\n",
      "-74\n",
      "-73\n",
      "-72\n",
      "-71\n",
      "-70\n",
      "-69\n",
      "-68\n",
      "-67\n",
      "-66\n",
      "-65\n",
      "-64\n",
      "-63\n",
      "-62\n",
      "-61\n",
      "-60\n",
      "-59\n",
      "-58\n",
      "-57\n",
      "-56\n",
      "-55\n",
      "-54\n",
      "-53\n",
      "-52\n",
      "-51\n",
      "-50\n",
      "-49\n",
      "-48\n",
      "-47\n",
      "-46\n",
      "-45\n",
      "-44\n",
      "-43\n",
      "-42\n",
      "-41\n",
      "-40\n",
      "-39\n",
      "-38\n",
      "-37\n",
      "-36\n",
      "-35\n",
      "-34\n",
      "-33\n",
      "-32\n",
      "-31\n",
      "-30\n",
      "-29\n",
      "-28\n",
      "-27\n",
      "-26\n",
      "-25\n",
      "-24\n",
      "-23\n",
      "-22\n",
      "-21\n",
      "-20\n",
      "-19\n",
      "-18\n",
      "-17\n",
      "-16\n",
      "-15\n",
      "-14\n",
      "-13\n",
      "-12\n",
      "-11\n",
      "-10\n"
     ]
    }
   ],
   "source": [
    "for i in range(-100, -9):\n",
    "    print(i)"
   ]
  },
  {
   "cell_type": "markdown",
   "id": "abf923dc",
   "metadata": {},
   "source": [
    "7. Write a program to sum all prime numbers within a range of 10 to 1000."
   ]
  },
  {
   "cell_type": "code",
   "execution_count": 68,
   "id": "434407c4",
   "metadata": {},
   "outputs": [
    {
     "name": "stdout",
     "output_type": "stream",
     "text": [
      "Sum of prime numbers between 10 and 1000: 76110\n"
     ]
    }
   ],
   "source": [
    "def is_prime(n):\n",
    "    if n <= 1:\n",
    "        return False\n",
    "    for i in range(2, int(n**0.5)+1):\n",
    "        if n % i == 0:\n",
    "            return False\n",
    "    return True\n",
    "\n",
    "sum = 0\n",
    "for i in range(10, 1000):\n",
    "    if is_prime(i):\n",
    "        sum += i\n",
    "\n",
    "print(\"Sum of prime numbers between 10 and 1000:\", sum)\n"
   ]
  },
  {
   "cell_type": "markdown",
   "id": "f8a04c22",
   "metadata": {},
   "source": [
    "8. Find the factorial of an n! (Hint, n=7: 7*6*5*4*3*2*1)."
   ]
  },
  {
   "cell_type": "code",
   "execution_count": 33,
   "id": "03591ab2",
   "metadata": {},
   "outputs": [
    {
     "name": "stdout",
     "output_type": "stream",
     "text": [
      "The factorial of 7 is 5040\n"
     ]
    }
   ],
   "source": [
    "n = 7\n",
    "factorial = 1\n",
    "\n",
    "for i in range(1, n+1):\n",
    "    factorial *= i\n",
    "\n",
    "print(\"The factorial of\", n, \"is\", factorial)"
   ]
  },
  {
   "cell_type": "markdown",
   "id": "58a0c27d",
   "metadata": {},
   "source": [
    "9. Reverse a given integer number 27956240710."
   ]
  },
  {
   "cell_type": "code",
   "execution_count": 42,
   "id": "0e297707",
   "metadata": {},
   "outputs": [
    {
     "name": "stdout",
     "output_type": "stream",
     "text": [
      "01704265972\n"
     ]
    }
   ],
   "source": [
    "num = 27956240710\n",
    "print(str(num)[::-1])"
   ]
  },
  {
   "cell_type": "code",
   "execution_count": null,
   "id": "cb27649b",
   "metadata": {},
   "outputs": [],
   "source": [
    "10. Print the following pattern using for and while loop.\n",
    "\n",
    "   # # #\n",
    "   # # # #\n",
    "   # # #\n",
    "   # #"
   ]
  },
  {
   "cell_type": "code",
   "execution_count": 67,
   "id": "69e8af04",
   "metadata": {},
   "outputs": [
    {
     "name": "stdout",
     "output_type": "stream",
     "text": [
      "# # # \r\n",
      "# # # # \r\n",
      "# # # \r\n",
      "# # \r\n"
     ]
    }
   ],
   "source": [
    "n=4\n",
    " \n",
    "i=3;j=0\n",
    "while(i<=n):\n",
    "    while(j<=i-1):\n",
    "        print(\"# \",end=\"\")\n",
    "        j+=1\n",
    "     # printing next line for each row\n",
    "    print(\"\\r\")\n",
    "    j=0;i+=1\n",
    "i=3;j=0\n",
    "while(i<=n):\n",
    "    while(j<=i-1):\n",
    "        print(\"# \",end=\"\")\n",
    "        j+=1\n",
    "     # printing next line for each row\n",
    "    print(\"\\r\")\n",
    "    j=2;i+=1"
   ]
  },
  {
   "cell_type": "markdown",
   "id": "26c0861c",
   "metadata": {},
   "source": [
    "11. Display the Fibonacci series of 15 elements using the for and while loop."
   ]
  },
  {
   "cell_type": "code",
   "execution_count": 57,
   "id": "b1608ca4",
   "metadata": {},
   "outputs": [
    {
     "name": "stdout",
     "output_type": "stream",
     "text": [
      "Fibonacci series using for loop: [0, 1, 1, 2, 3, 5, 8, 13, 21, 34, 55, 89, 144, 233, 377]\n",
      "Fibonacci series using while loop: [0, 1, 1, 2, 3, 5, 8, 13, 21, 34, 55, 89, 144, 233, 377]\n"
     ]
    }
   ],
   "source": [
    "# Using a for loop\n",
    "def fibonacci_series_for(n):\n",
    "    fib = [0, 1]\n",
    "    for i in range(2, n):\n",
    "        fib.append(fib[i-1] + fib[i-2])\n",
    "    return fib[:n]\n",
    "\n",
    "print(\"Fibonacci series using for loop:\", fibonacci_series_for(15))\n",
    "\n",
    "\n",
    "# Using a while loop\n",
    "def fibonacci_series_while(n):\n",
    "    fib = [0, 1]\n",
    "    i = 2\n",
    "    while i < n:\n",
    "        fib.append(fib[i-1] + fib[i-2])\n",
    "        i += 1\n",
    "    return fib[:n]\n",
    "\n",
    "print(\"Fibonacci series using while loop:\", fibonacci_series_while(15))\n"
   ]
  },
  {
   "cell_type": "markdown",
   "id": "2e157320",
   "metadata": {},
   "source": [
    "# Python inbuilt Data Structure:"
   ]
  },
  {
   "cell_type": "markdown",
   "id": "fbea1cd7",
   "metadata": {},
   "source": [
    "12. Remove 2 and add 3 to the list and replace True with False.\n",
    "Li = [1,3,5, [2,3], True]\n",
    "Output = [1,3,5, [3,3], False]"
   ]
  },
  {
   "cell_type": "code",
   "execution_count": 15,
   "id": "91a74778",
   "metadata": {},
   "outputs": [],
   "source": [
    "li = [1,3,5,[2,3],True]"
   ]
  },
  {
   "cell_type": "code",
   "execution_count": 16,
   "id": "b0c8b42b",
   "metadata": {},
   "outputs": [],
   "source": [
    "li[3].remove(2)"
   ]
  },
  {
   "cell_type": "code",
   "execution_count": 17,
   "id": "2306b8f6",
   "metadata": {},
   "outputs": [
    {
     "data": {
      "text/plain": [
       "[1, 3, 5, [3], True]"
      ]
     },
     "execution_count": 17,
     "metadata": {},
     "output_type": "execute_result"
    }
   ],
   "source": [
    "li"
   ]
  },
  {
   "cell_type": "code",
   "execution_count": 18,
   "id": "3d909883",
   "metadata": {},
   "outputs": [],
   "source": [
    "li[3].append(3)"
   ]
  },
  {
   "cell_type": "code",
   "execution_count": 19,
   "id": "71ded8cf",
   "metadata": {},
   "outputs": [
    {
     "data": {
      "text/plain": [
       "[1, 3, 5, [3, 3], True]"
      ]
     },
     "execution_count": 19,
     "metadata": {},
     "output_type": "execute_result"
    }
   ],
   "source": [
    "li"
   ]
  },
  {
   "cell_type": "code",
   "execution_count": 20,
   "id": "0eac5f0c",
   "metadata": {},
   "outputs": [],
   "source": [
    "li[4] = False"
   ]
  },
  {
   "cell_type": "code",
   "execution_count": 21,
   "id": "bbe08f1a",
   "metadata": {},
   "outputs": [
    {
     "name": "stdout",
     "output_type": "stream",
     "text": [
      "[1, 3, 5, [3, 3], False]\n"
     ]
    }
   ],
   "source": [
    "print(li)"
   ]
  },
  {
   "cell_type": "markdown",
   "id": "24a87cfc",
   "metadata": {},
   "source": [
    "13. Find the intersection (common) of two sets.\n",
    "S1 = {1,4,6,8}\n",
    "S2 = {True, 1,2,10}"
   ]
  },
  {
   "cell_type": "code",
   "execution_count": 28,
   "id": "2957e959",
   "metadata": {},
   "outputs": [
    {
     "name": "stdout",
     "output_type": "stream",
     "text": [
      "Intersection of S1 and S2: {True}\n"
     ]
    }
   ],
   "source": [
    "S1 = {1, 4, 6, 8}\n",
    "S2 = {True, 1, 2, 10}\n",
    "\n",
    "intersection = S1 & S2\n",
    "print(\"Intersection of S1 and S2:\",intersection)"
   ]
  },
  {
   "cell_type": "markdown",
   "id": "cb836ef4",
   "metadata": {},
   "source": [
    "14. Input a list from the user then Remove duplicates from a list and create a set and find the max\n",
    "number. User_input = [1,9,3,4,5,200,54]"
   ]
  },
  {
   "cell_type": "code",
   "execution_count": 29,
   "id": "13b87ca7",
   "metadata": {},
   "outputs": [
    {
     "name": "stdout",
     "output_type": "stream",
     "text": [
      "Unique numbers: {1, 3, 4, 5, 200, 9, 54}\n",
      "Maximum number: 200\n"
     ]
    }
   ],
   "source": [
    "user_input = [1, 9, 3, 4, 5, 200, 54]\n",
    "\n",
    "# Removing duplicates and creating a set\n",
    "unique_numbers = set(user_input)\n",
    "\n",
    "# Finding the maximum number\n",
    "max_number = max(unique_numbers)\n",
    "\n",
    "print(\"Unique numbers:\", unique_numbers)\n",
    "print(\"Maximum number:\", max_number)\n"
   ]
  },
  {
   "cell_type": "markdown",
   "id": "bd7cdcba",
   "metadata": {},
   "source": [
    "15. Rename the key of a dictionary.\n",
    "Dict = { \"name\": \"Shakil\", \"age\":27, \"city\": “Berlin”, \"country\": \"Germany\" }\n",
    "Write a program to rename a key ‘country’ to a ‘region’ in the following dictionary."
   ]
  },
  {
   "cell_type": "code",
   "execution_count": 43,
   "id": "61366286",
   "metadata": {},
   "outputs": [],
   "source": [
    "Dict = { \n",
    "    \"name\": \"Shakil\",\n",
    "    \"age\":27, \n",
    "    \"city\":\"Berlin\", \n",
    "    \"country\":\"Germany\"\n",
    "}"
   ]
  },
  {
   "cell_type": "code",
   "execution_count": 44,
   "id": "9a92f421",
   "metadata": {},
   "outputs": [
    {
     "data": {
      "text/plain": [
       "{'name': 'Shakil', 'age': 27, 'city': 'Berlin', 'country': 'Germany'}"
      ]
     },
     "execution_count": 44,
     "metadata": {},
     "output_type": "execute_result"
    }
   ],
   "source": [
    "Dict"
   ]
  },
  {
   "cell_type": "code",
   "execution_count": 45,
   "id": "dc3fe1cd",
   "metadata": {},
   "outputs": [],
   "source": [
    "Dict[\"region\"] = Dict.pop(\"country\")\n"
   ]
  },
  {
   "cell_type": "code",
   "execution_count": 46,
   "id": "dc08847d",
   "metadata": {},
   "outputs": [
    {
     "name": "stdout",
     "output_type": "stream",
     "text": [
      "Dictionary with renamed key: {'name': 'Shakil', 'age': 27, 'city': 'Berlin', 'region': 'Germany'}\n"
     ]
    }
   ],
   "source": [
    "print(\"Dictionary with renamed key:\", Dict)"
   ]
  },
  {
   "cell_type": "markdown",
   "id": "6fb6116f",
   "metadata": {},
   "source": [
    "16. Creating a data frame using the list.\n",
    "num = [10,100,300] (column name is number)"
   ]
  },
  {
   "cell_type": "code",
   "execution_count": 34,
   "id": "deb1603a",
   "metadata": {},
   "outputs": [],
   "source": [
    "import pandas as pd"
   ]
  },
  {
   "cell_type": "code",
   "execution_count": 35,
   "id": "32660f57",
   "metadata": {},
   "outputs": [],
   "source": [
    "num = [10, 100, 300]"
   ]
  },
  {
   "cell_type": "code",
   "execution_count": 36,
   "id": "81bf392e",
   "metadata": {},
   "outputs": [],
   "source": [
    "df = pd.DataFrame({\"number\": num})"
   ]
  },
  {
   "cell_type": "code",
   "execution_count": 37,
   "id": "acb8d419",
   "metadata": {},
   "outputs": [
    {
     "name": "stdout",
     "output_type": "stream",
     "text": [
      "   number\n",
      "0      10\n",
      "1     100\n",
      "2     300\n"
     ]
    }
   ],
   "source": [
    "print(df)"
   ]
  },
  {
   "cell_type": "markdown",
   "id": "94a9950a",
   "metadata": {},
   "source": [
    "17. Change the value of a key in a given dictionary.\n",
    "Write a Python program to change ‘age’ to 28 in the following dictionary.\n",
    "Dict = { \"name\": \"Shakil\", \"age\":27, \"city\": “Berlin”, \"country\": \"Germany\" }"
   ]
  },
  {
   "cell_type": "code",
   "execution_count": 47,
   "id": "fdc2e6b6",
   "metadata": {},
   "outputs": [],
   "source": [
    "Dict = { \n",
    "    \"name\": \"Shakil\", \n",
    "    \"age\":27, \n",
    "    \"city\":\"Berlin\", \n",
    "    \"country\":\"Germany\" \n",
    "}"
   ]
  },
  {
   "cell_type": "code",
   "execution_count": 48,
   "id": "95164eec",
   "metadata": {},
   "outputs": [
    {
     "data": {
      "text/plain": [
       "{'name': 'Shakil', 'age': 27, 'city': 'Berlin', 'country': 'Germany'}"
      ]
     },
     "execution_count": 48,
     "metadata": {},
     "output_type": "execute_result"
    }
   ],
   "source": [
    "Dict"
   ]
  },
  {
   "cell_type": "code",
   "execution_count": 49,
   "id": "9e9ab626",
   "metadata": {},
   "outputs": [],
   "source": [
    "Dict[\"age\"] = 28"
   ]
  },
  {
   "cell_type": "code",
   "execution_count": 50,
   "id": "2043f19b",
   "metadata": {},
   "outputs": [
    {
     "name": "stdout",
     "output_type": "stream",
     "text": [
      "Dictionary with updated value: {'name': 'Shakil', 'age': 28, 'city': 'Berlin', 'country': 'Germany'}\n"
     ]
    }
   ],
   "source": [
    "print(\"Dictionary with updated value:\", Dict)"
   ]
  }
 ],
 "metadata": {
  "kernelspec": {
   "display_name": "Python 3 (ipykernel)",
   "language": "python",
   "name": "python3"
  },
  "language_info": {
   "codemirror_mode": {
    "name": "ipython",
    "version": 3
   },
   "file_extension": ".py",
   "mimetype": "text/x-python",
   "name": "python",
   "nbconvert_exporter": "python",
   "pygments_lexer": "ipython3",
   "version": "3.9.13"
  }
 },
 "nbformat": 4,
 "nbformat_minor": 5
}
